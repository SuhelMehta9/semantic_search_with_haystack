{
 "cells": [
  {
   "cell_type": "markdown",
   "id": "d9e1dc03-4dd6-4801-a210-b9776225b8fd",
   "metadata": {},
   "source": [
    "### Install the required modules"
   ]
  },
  {
   "cell_type": "code",
   "execution_count": null,
   "id": "acaed77f-5f0f-4d7a-b480-e4b03a0775d3",
   "metadata": {
    "scrolled": true
   },
   "outputs": [],
   "source": [
    "!pip install qdrant-haystack\n",
    "!pip install farm-haystack[inference]"
   ]
  },
  {
   "cell_type": "markdown",
   "id": "4f6cce47-2e46-457d-b7d3-8e4e09d0c9b5",
   "metadata": {},
   "source": [
    "### Make qdrant up and running using the below command\n",
    "`docker run -p 6333:6333 -v qdrant_storage qdrant/qdrant`\n",
    "\n",
    "Note: Here we are storing the embeddings in the qdrant_storage directory so that we don't need to generate them every time.\n"
   ]
  },
  {
   "cell_type": "code",
   "execution_count": null,
   "id": "88dd6d53-2100-4e4c-9ff5-9fc3a1a11a3a",
   "metadata": {},
   "outputs": [],
   "source": [
    "from qdrant_haystack import QdrantDocumentStore\n",
    "from haystack import Document\n",
    "from haystack.nodes import EmbeddingRetriever"
   ]
  },
  {
   "cell_type": "code",
   "execution_count": null,
   "id": "e7bb6d59-6cfe-43a6-a41d-e3f30b1bbc4c",
   "metadata": {},
   "outputs": [],
   "source": [
    "document_store = QdrantDocumentStore(\n",
    "    \"localhost\",\n",
    "    port = 6333,\n",
    "    index=\"test_data\",\n",
    "    content_field = \"content\",\n",
    "    name_field = \"name\",\n",
    "    embedding_field = \"vector\",\n",
    "    embedding_dim=384,\n",
    "    recreate_index=True,\n",
    "    hnsw_config={\"m\": 16, \"ef_construct\": 64},\n",
    "    on_disk_payload = True\n",
    ")"
   ]
  },
  {
   "cell_type": "code",
   "execution_count": null,
   "id": "7f13c8f6-6fc3-4366-9da0-5f5bad3fdeed",
   "metadata": {},
   "outputs": [],
   "source": [
    "from os import listdir\n",
    "doc_dir = \"wiki_gameofthrones_txt1\"\n",
    "files_to_index = [doc_dir + \"/\" + f for f in listdir(doc_dir)]"
   ]
  },
  {
   "cell_type": "code",
   "execution_count": null,
   "id": "ffa5eb01-5c1a-441b-bd40-24762cff4b32",
   "metadata": {
    "scrolled": true
   },
   "outputs": [],
   "source": [
    "docs = []\n",
    "for file in files_to_index:\n",
    "    with open(file, \"r\", encoding='utf-8') as f:\n",
    "        text = \" \".join(f.readlines()).strip()\n",
    "        doc = Document(text=text, content=text, meta={\"file_name\": file})\n",
    "        docs.append(doc)"
   ]
  },
  {
   "cell_type": "code",
   "execution_count": null,
   "id": "8e091469-1986-4dc2-96ac-c37b6e671da2",
   "metadata": {},
   "outputs": [],
   "source": [
    "document_store.write_documents(docs)"
   ]
  },
  {
   "cell_type": "code",
   "execution_count": null,
   "id": "ac7f749f-d502-4f7e-bb9b-27fb38ca16f8",
   "metadata": {},
   "outputs": [],
   "source": [
    "retriever = EmbeddingRetriever(\n",
    "    document_store=document_store,\n",
    "    embedding_model=\"sentence-transformers/multi-qa-MiniLM-L6-cos-v1\",\n",
    "    model_format=\"sentence_transformers\",\n",
    ")"
   ]
  },
  {
   "cell_type": "code",
   "execution_count": null,
   "id": "c0ee9305-1b36-4cca-8067-ed083df26895",
   "metadata": {},
   "outputs": [],
   "source": [
    "document_store.update_embeddings(retriever)"
   ]
  }
 ],
 "metadata": {
  "kernelspec": {
   "display_name": "Python 3 (ipykernel)",
   "language": "python",
   "name": "python3"
  },
  "language_info": {
   "codemirror_mode": {
    "name": "ipython",
    "version": 3
   },
   "file_extension": ".py",
   "mimetype": "text/x-python",
   "name": "python",
   "nbconvert_exporter": "python",
   "pygments_lexer": "ipython3",
   "version": "3.9.7"
  }
 },
 "nbformat": 4,
 "nbformat_minor": 5
}
